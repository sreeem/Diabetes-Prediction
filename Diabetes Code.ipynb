{
 "cells": [
  {
   "cell_type": "code",
   "execution_count": 3,
   "id": "charitable-grace",
   "metadata": {},
   "outputs": [],
   "source": [
    "import numpy as np\n",
    "import pandas as pd\n",
    "from sklearn.preprocessing import StandardScaler\n",
    "from sklearn.model_selection import train_test_split\n",
    "from sklearn import svm\n",
    "from sklearn.metrics import accuracy_score\n",
    "#https://youtu.be/xUE7SjVx9bQ"
   ]
  },
  {
   "cell_type": "markdown",
   "id": "narrow-fortune",
   "metadata": {},
   "source": [
    "# Data Collection and Analysis Section"
   ]
  },
  {
   "cell_type": "markdown",
   "id": "early-hundred",
   "metadata": {},
   "source": [
    " Pregnancies = # of times pregnant <br>\n",
    " Glucose = plasma glucose concentration of 2hrs in an oral glucose tolerance test<br>\n",
    " BloodPressure = Diastolic Blood Pressure(mm Hg) <br>\n",
    " SkinThickness = Triceps skin fold thickness(mm) <br>\n",
    " Insulin = 2-hr serum insulin (mu U/mL)<br>\n",
    " BMI = body mass index(weight in kg/(height in m)^2)<br>\n",
    " DiabetesPedigreeFunction = information about diabetes history in relatives, higher value = higher chance of having diabetes<br>\n",
    " Age = Age of person in years <br>\n",
    " Outcome = 0,non-diabetic and 1, diabetic <br>"
   ]
  },
  {
   "cell_type": "code",
   "execution_count": 4,
   "id": "selected-powell",
   "metadata": {},
   "outputs": [
    {
     "data": {
      "text/html": [
       "<div>\n",
       "<style scoped>\n",
       "    .dataframe tbody tr th:only-of-type {\n",
       "        vertical-align: middle;\n",
       "    }\n",
       "\n",
       "    .dataframe tbody tr th {\n",
       "        vertical-align: top;\n",
       "    }\n",
       "\n",
       "    .dataframe thead th {\n",
       "        text-align: right;\n",
       "    }\n",
       "</style>\n",
       "<table border=\"1\" class=\"dataframe\">\n",
       "  <thead>\n",
       "    <tr style=\"text-align: right;\">\n",
       "      <th></th>\n",
       "      <th>Pregnancies</th>\n",
       "      <th>Glucose</th>\n",
       "      <th>BloodPressure</th>\n",
       "      <th>SkinThickness</th>\n",
       "      <th>Insulin</th>\n",
       "      <th>BMI</th>\n",
       "      <th>DiabetesPedigreeFunction</th>\n",
       "      <th>Age</th>\n",
       "      <th>Outcome</th>\n",
       "    </tr>\n",
       "  </thead>\n",
       "  <tbody>\n",
       "    <tr>\n",
       "      <th>0</th>\n",
       "      <td>6</td>\n",
       "      <td>148</td>\n",
       "      <td>72</td>\n",
       "      <td>35</td>\n",
       "      <td>0</td>\n",
       "      <td>33.6</td>\n",
       "      <td>0.627</td>\n",
       "      <td>50</td>\n",
       "      <td>1</td>\n",
       "    </tr>\n",
       "    <tr>\n",
       "      <th>1</th>\n",
       "      <td>1</td>\n",
       "      <td>85</td>\n",
       "      <td>66</td>\n",
       "      <td>29</td>\n",
       "      <td>0</td>\n",
       "      <td>26.6</td>\n",
       "      <td>0.351</td>\n",
       "      <td>31</td>\n",
       "      <td>0</td>\n",
       "    </tr>\n",
       "    <tr>\n",
       "      <th>2</th>\n",
       "      <td>8</td>\n",
       "      <td>183</td>\n",
       "      <td>64</td>\n",
       "      <td>0</td>\n",
       "      <td>0</td>\n",
       "      <td>23.3</td>\n",
       "      <td>0.672</td>\n",
       "      <td>32</td>\n",
       "      <td>1</td>\n",
       "    </tr>\n",
       "    <tr>\n",
       "      <th>3</th>\n",
       "      <td>1</td>\n",
       "      <td>89</td>\n",
       "      <td>66</td>\n",
       "      <td>23</td>\n",
       "      <td>94</td>\n",
       "      <td>28.1</td>\n",
       "      <td>0.167</td>\n",
       "      <td>21</td>\n",
       "      <td>0</td>\n",
       "    </tr>\n",
       "    <tr>\n",
       "      <th>4</th>\n",
       "      <td>0</td>\n",
       "      <td>137</td>\n",
       "      <td>40</td>\n",
       "      <td>35</td>\n",
       "      <td>168</td>\n",
       "      <td>43.1</td>\n",
       "      <td>2.288</td>\n",
       "      <td>33</td>\n",
       "      <td>1</td>\n",
       "    </tr>\n",
       "  </tbody>\n",
       "</table>\n",
       "</div>"
      ],
      "text/plain": [
       "   Pregnancies  Glucose  BloodPressure  SkinThickness  Insulin   BMI  \\\n",
       "0            6      148             72             35        0  33.6   \n",
       "1            1       85             66             29        0  26.6   \n",
       "2            8      183             64              0        0  23.3   \n",
       "3            1       89             66             23       94  28.1   \n",
       "4            0      137             40             35      168  43.1   \n",
       "\n",
       "   DiabetesPedigreeFunction  Age  Outcome  \n",
       "0                     0.627   50        1  \n",
       "1                     0.351   31        0  \n",
       "2                     0.672   32        1  \n",
       "3                     0.167   21        0  \n",
       "4                     2.288   33        1  "
      ]
     },
     "execution_count": 4,
     "metadata": {},
     "output_type": "execute_result"
    }
   ],
   "source": [
    "#storing the data in diabetes dataframe\n",
    "diabetes = pd.read_csv('diabetes.csv')\n",
    "#look at the different variables that are included by printing only first 5 rows\n",
    "diabetes.head()\n",
    "#see the # of rows by columns(aka size of data set)\n",
    "#diabetes.shape #768 rows(observations) by 9 columns(parameters)"
   ]
  },
  {
   "cell_type": "code",
   "execution_count": 5,
   "id": "driving-perception",
   "metadata": {},
   "outputs": [
    {
     "data": {
      "text/plain": [
       "0    500\n",
       "1    268\n",
       "Name: Outcome, dtype: int64"
      ]
     },
     "execution_count": 5,
     "metadata": {},
     "output_type": "execute_result"
    }
   ],
   "source": [
    "#getting some general statistical measures on the data\n",
    "diabetes.describe()\n",
    "#see how many people have diabetes vs don't\n",
    "diabetes['Outcome'].value_counts()\n",
    "#500 ppl don't have diabetes and 268 have diabetes\n",
    "#typically we need more data to train the model around 1000's of observations but this is sufficient since we are practicing"
   ]
  },
  {
   "cell_type": "code",
   "execution_count": 6,
   "id": "least-reproduction",
   "metadata": {},
   "outputs": [
    {
     "data": {
      "text/html": [
       "<div>\n",
       "<style scoped>\n",
       "    .dataframe tbody tr th:only-of-type {\n",
       "        vertical-align: middle;\n",
       "    }\n",
       "\n",
       "    .dataframe tbody tr th {\n",
       "        vertical-align: top;\n",
       "    }\n",
       "\n",
       "    .dataframe thead th {\n",
       "        text-align: right;\n",
       "    }\n",
       "</style>\n",
       "<table border=\"1\" class=\"dataframe\">\n",
       "  <thead>\n",
       "    <tr style=\"text-align: right;\">\n",
       "      <th></th>\n",
       "      <th>Pregnancies</th>\n",
       "      <th>Glucose</th>\n",
       "      <th>BloodPressure</th>\n",
       "      <th>SkinThickness</th>\n",
       "      <th>Insulin</th>\n",
       "      <th>BMI</th>\n",
       "      <th>DiabetesPedigreeFunction</th>\n",
       "      <th>Age</th>\n",
       "    </tr>\n",
       "    <tr>\n",
       "      <th>Outcome</th>\n",
       "      <th></th>\n",
       "      <th></th>\n",
       "      <th></th>\n",
       "      <th></th>\n",
       "      <th></th>\n",
       "      <th></th>\n",
       "      <th></th>\n",
       "      <th></th>\n",
       "    </tr>\n",
       "  </thead>\n",
       "  <tbody>\n",
       "    <tr>\n",
       "      <th>0</th>\n",
       "      <td>3.298000</td>\n",
       "      <td>109.980000</td>\n",
       "      <td>68.184000</td>\n",
       "      <td>19.664000</td>\n",
       "      <td>68.792000</td>\n",
       "      <td>30.304200</td>\n",
       "      <td>0.429734</td>\n",
       "      <td>31.190000</td>\n",
       "    </tr>\n",
       "    <tr>\n",
       "      <th>1</th>\n",
       "      <td>4.865672</td>\n",
       "      <td>141.257463</td>\n",
       "      <td>70.824627</td>\n",
       "      <td>22.164179</td>\n",
       "      <td>100.335821</td>\n",
       "      <td>35.142537</td>\n",
       "      <td>0.550500</td>\n",
       "      <td>37.067164</td>\n",
       "    </tr>\n",
       "  </tbody>\n",
       "</table>\n",
       "</div>"
      ],
      "text/plain": [
       "         Pregnancies     Glucose  BloodPressure  SkinThickness     Insulin  \\\n",
       "Outcome                                                                      \n",
       "0           3.298000  109.980000      68.184000      19.664000   68.792000   \n",
       "1           4.865672  141.257463      70.824627      22.164179  100.335821   \n",
       "\n",
       "               BMI  DiabetesPedigreeFunction        Age  \n",
       "Outcome                                                  \n",
       "0        30.304200                  0.429734  31.190000  \n",
       "1        35.142537                  0.550500  37.067164  "
      ]
     },
     "execution_count": 6,
     "metadata": {},
     "output_type": "execute_result"
    }
   ],
   "source": [
    "#find the average parameters of people with diabetes vs w/o\n",
    "diabetes.groupby('Outcome').mean()"
   ]
  },
  {
   "cell_type": "code",
   "execution_count": 11,
   "id": "applied-treatment",
   "metadata": {},
   "outputs": [],
   "source": [
    "#now we are going to drop the outcomes column for the machine to be able to guess it on its own\n",
    "X = diabetes.drop(columns='Outcome',axis=1)#we use axis=1, when droping column and 0 when dropping row\n",
    "Y = diabetes['Outcome']#seperate the outcome column into its own table"
   ]
  },
  {
   "cell_type": "markdown",
   "id": "spoken-think",
   "metadata": {},
   "source": [
    "NOW WE HAVE TO STANDARDIZE THE DATA SO THAT IT IS EASIER TO READ AND THE UNITS ARE THE SAME, AND MAKE IT EASIER FOR THE MACHINE LEARNING MODEL(IT ALSO ALLOWS IT TO MAKE BETTER PREDICTIONS)"
   ]
  },
  {
   "cell_type": "code",
   "execution_count": 15,
   "id": "arranged-dating",
   "metadata": {},
   "outputs": [
    {
     "name": "stdout",
     "output_type": "stream",
     "text": [
      "[[ 0.63994726  0.84832379  0.14964075 ...  0.20401277  0.46849198\n",
      "   1.4259954 ]\n",
      " [-0.84488505 -1.12339636 -0.16054575 ... -0.68442195 -0.36506078\n",
      "  -0.19067191]\n",
      " [ 1.23388019  1.94372388 -0.26394125 ... -1.10325546  0.60439732\n",
      "  -0.10558415]\n",
      " ...\n",
      " [ 0.3429808   0.00330087  0.14964075 ... -0.73518964 -0.68519336\n",
      "  -0.27575966]\n",
      " [-0.84488505  0.1597866  -0.47073225 ... -0.24020459 -0.37110101\n",
      "   1.17073215]\n",
      " [-0.84488505 -0.8730192   0.04624525 ... -0.20212881 -0.47378505\n",
      "  -0.87137393]]\n"
     ]
    }
   ],
   "source": [
    "scaler = StandardScaler()\n",
    "scaler.fit(X)\n",
    "#transform the data now\n",
    "standardized_data = scaler.transform(X)\n",
    "print(standardized_data) #all of the values are in a similar range"
   ]
  },
  {
   "cell_type": "code",
   "execution_count": 18,
   "id": "shaped-wisconsin",
   "metadata": {},
   "outputs": [],
   "source": [
    "#make X the standardized data again\n",
    "X = standardized_data\n",
    "#Now we will the X and Y to train the model \n",
    "#X = represents the data\n",
    "#Y = represents the label"
   ]
  },
  {
   "cell_type": "markdown",
   "id": "proprietary-entrance",
   "metadata": {},
   "source": [
    "Now we will split the data into training and test data"
   ]
  },
  {
   "cell_type": "markdown",
   "id": "stainless-affiliation",
   "metadata": {},
   "source": [
    "#now we will create four new variables \n",
    "#with the X_train and X_test we are going to train the ML model with the train\n",
    "#and once model is trained we will evaluate the model with the test data\n",
    "#Y_train represents the labels for the X_train data and the Y_test represents the labels for the X_test data\n",
    "#we will have four outputs from this function below\n",
    "X_train, X_test, Y_train, Y_test = train_test_split(X,Y, test_size = 0.2,stratify=Y,random_state=2)\n",
    "#X is the data\n",
    "#Y is the labels\n",
    "#test size = 0.2, so 20% of the data will be in the  test data and 80% in the train data\n",
    "#Stratify, to be in the same proportion as what we originally used in both test and train datasets as well. \n",
    "#random _state=helpful for replicating code ensures that it is done the same, kind of like an index\n",
    "#we see that 614 observations are used for the training and 154 for the test\n",
    "print(X.shape,X_train.shape,X_test.shape)"
   ]
  },
  {
   "cell_type": "markdown",
   "id": "gothic-amendment",
   "metadata": {},
   "source": [
    "Training the Model"
   ]
  },
  {
   "cell_type": "code",
   "execution_count": 25,
   "id": "ongoing-carpet",
   "metadata": {},
   "outputs": [
    {
     "data": {
      "text/plain": [
       "SVC(kernel='linear')"
      ]
     },
     "execution_count": 25,
     "metadata": {},
     "output_type": "execute_result"
    }
   ],
   "source": [
    "classifier = svm.SVC(kernel='linear') #use linear model\n",
    "#fit training data to classifier\n",
    "classifier.fit(X_train, Y_train)"
   ]
  },
  {
   "cell_type": "markdown",
   "id": "ignored-regulation",
   "metadata": {},
   "source": [
    "Evaluate the model"
   ]
  },
  {
   "cell_type": "code",
   "execution_count": 30,
   "id": "virtual-robert",
   "metadata": {},
   "outputs": [
    {
     "name": "stdout",
     "output_type": "stream",
     "text": [
      "Accuracy Score of the training data: 0.7866449511400652\n",
      "Accuracy Score of the testing data: 0.7727272727272727\n"
     ]
    }
   ],
   "source": [
    "#accuracy score on the training data\n",
    "#\n",
    "#this will predict the labels for all the X_train rows and store it in new variable the prediction one\n",
    "X_train_prediction=classifier.predict(X_train)\n",
    "training_data_accuracy = accuracy_score(X_train_prediction, Y_train)\n",
    "print('Accuracy Score of the training data:',training_data_accuracy)\n",
    "###\n",
    "#now we need to see the accuracy of the test data using the model and see how well it's performing\n",
    "#accuracy score on the test data\n",
    "X_test_prediction=classifier.predict(X_test)\n",
    "testing_data_accuracy=accuracy_score(X_test_prediction,Y_test)\n",
    "print('Accuracy Score of the testing data:',testing_data_accuracy)\n",
    "#anything above 70% is pretty good\n",
    "#here we have evidence that the model has not overtrained which is good\n",
    "#we would see that it overtrained the test data if the accuracy for the train data is very high but low for the test data, aka overfitting\n",
    "\n",
    "\n"
   ]
  },
  {
   "cell_type": "markdown",
   "id": "confident-species",
   "metadata": {},
   "source": [
    "Making a predictive system "
   ]
  },
  {
   "cell_type": "code",
   "execution_count": 38,
   "id": "fluid-claim",
   "metadata": {},
   "outputs": [
    {
     "name": "stdout",
     "output_type": "stream",
     "text": [
      "[1]\n",
      "The person is diabetic\n"
     ]
    }
   ],
   "source": [
    "#here we are going to add new data that we want to use to let the model predict if the person has diabetes or not, basically a new person \n",
    "input_data = (5,166,72,19,175,25.8,0.587,51)\n",
    "#\n",
    "#this is like creating a blueprint for the model\n",
    "#chaning the input to a numpy array\n",
    "input_data_as_na = np.asarray(input_data)\n",
    "#\n",
    "#need to reshape the new data(array) since we are predicting for one instance if we don't do this the model will be confused and will be predicting for 768 observations instead of 1\n",
    "#(1,-1) predicting only one instance\n",
    "input_data_reshaped=input_data_as_na.reshape(1,-1)\n",
    "#need to standardize since we did that with the original data when inputting it into the model\n",
    "std_data=scaler.transform(input_data_reshaped)\n",
    "#\n",
    "#now we can feed this new data into the model to predict\n",
    "#lets make the prediction\n",
    "prediction = classifier.predict(std_data)\n",
    "print(prediction)\n",
    "\n",
    "if (prediction[0] == 0):\n",
    "    print('The person is not diabetic')\n",
    "else:\n",
    "    print('The person is diabetic')"
   ]
  }
 ],
 "metadata": {
  "kernelspec": {
   "display_name": "Python 3",
   "language": "python",
   "name": "python3"
  },
  "language_info": {
   "codemirror_mode": {
    "name": "ipython",
    "version": 3
   },
   "file_extension": ".py",
   "mimetype": "text/x-python",
   "name": "python",
   "nbconvert_exporter": "python",
   "pygments_lexer": "ipython3",
   "version": "3.9.1"
  }
 },
 "nbformat": 4,
 "nbformat_minor": 5
}
